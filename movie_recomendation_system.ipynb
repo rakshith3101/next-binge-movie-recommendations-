{
  "cells": [
    {
      "cell_type": "markdown",
      "metadata": {
        "id": "view-in-github",
        "colab_type": "text"
      },
      "source": [
        "<a href=\"https://colab.research.google.com/github/rakshith3101/next-binge-movie-recommendations-/blob/main/movie_recomendation_system.ipynb\" target=\"_parent\"><img src=\"https://colab.research.google.com/assets/colab-badge.svg\" alt=\"Open In Colab\"/></a>"
      ]
    },
    {
      "cell_type": "markdown",
      "source": [
        "***NEXT BINGE* (MOVIE RECOMENDATION SYSTEM)**\n",
        "\n"
      ],
      "metadata": {
        "id": "ioqDrTOwN_th"
      }
    },
    {
      "cell_type": "markdown",
      "source": [
        "Greetings, My name is Rakshith Srinivasan I've chosen mobile recommendation system(option 1) for my selection assessment.I'm confident that this approach will be convincing."
      ],
      "metadata": {
        "id": "5VnZHl5TLAwM"
      }
    },
    {
      "cell_type": "markdown",
      "source": [
        "The movie recommendation system with a hybrid model utilizes data imported from Kaggle, combining collaborative filtering and content-based filtering approaches to provide accurate predictions and diverse movie suggestions for an enhanced user experience.\n",
        "\n",
        "\n",
        "*   [Dataset Link:](https://www.kaggle.com/datasets/akshaypawar7/millions-of-movies)\n",
        "\n"
      ],
      "metadata": {
        "id": "ym5UbMeXPWJG"
      }
    },
    {
      "cell_type": "code",
      "execution_count": null,
      "metadata": {
        "colab": {
          "base_uri": "https://localhost:8080/"
        },
        "id": "0OfJ6Z3J2erI",
        "outputId": "4af708aa-5e64-411e-85e6-caf9ec00a6b7"
      },
      "outputs": [
        {
          "output_type": "stream",
          "name": "stdout",
          "text": [
            "Requirement already satisfied: kaggle in /usr/local/lib/python3.10/dist-packages (1.5.16)\n",
            "Requirement already satisfied: six>=1.10 in /usr/local/lib/python3.10/dist-packages (from kaggle) (1.16.0)\n",
            "Requirement already satisfied: certifi in /usr/local/lib/python3.10/dist-packages (from kaggle) (2023.7.22)\n",
            "Requirement already satisfied: python-dateutil in /usr/local/lib/python3.10/dist-packages (from kaggle) (2.8.2)\n",
            "Requirement already satisfied: requests in /usr/local/lib/python3.10/dist-packages (from kaggle) (2.27.1)\n",
            "Requirement already satisfied: tqdm in /usr/local/lib/python3.10/dist-packages (from kaggle) (4.65.0)\n",
            "Requirement already satisfied: python-slugify in /usr/local/lib/python3.10/dist-packages (from kaggle) (8.0.1)\n",
            "Requirement already satisfied: urllib3 in /usr/local/lib/python3.10/dist-packages (from kaggle) (1.26.16)\n",
            "Requirement already satisfied: bleach in /usr/local/lib/python3.10/dist-packages (from kaggle) (6.0.0)\n",
            "Requirement already satisfied: webencodings in /usr/local/lib/python3.10/dist-packages (from bleach->kaggle) (0.5.1)\n",
            "Requirement already satisfied: text-unidecode>=1.3 in /usr/local/lib/python3.10/dist-packages (from python-slugify->kaggle) (1.3)\n",
            "Requirement already satisfied: charset-normalizer~=2.0.0 in /usr/local/lib/python3.10/dist-packages (from requests->kaggle) (2.0.12)\n",
            "Requirement already satisfied: idna<4,>=2.5 in /usr/local/lib/python3.10/dist-packages (from requests->kaggle) (3.4)\n"
          ]
        }
      ],
      "source": [
        "!pip install kaggle"
      ]
    },
    {
      "cell_type": "code",
      "execution_count": null,
      "metadata": {
        "id": "cX4XSTd2rahe"
      },
      "outputs": [],
      "source": [
        "! mkdir ~/.kaggle\n",
        "! cp kaggle.json ~/.kaggle/\n",
        "! chmod 600 ~/.kaggle/kaggle.json"
      ]
    },
    {
      "cell_type": "code",
      "execution_count": null,
      "metadata": {
        "colab": {
          "base_uri": "https://localhost:8080/"
        },
        "id": "vAVeKqWmrrYz",
        "outputId": "25789d36-490e-486b-e091-5ea9cbdb8f6b"
      },
      "outputs": [
        {
          "output_type": "stream",
          "name": "stdout",
          "text": [
            "Downloading millions-of-movies.zip to /content\n",
            " 93% 153M/164M [00:01<00:00, 98.0MB/s]\n",
            "100% 164M/164M [00:01<00:00, 93.3MB/s]\n"
          ]
        }
      ],
      "source": [
        "! kaggle datasets download akshaypawar7/millions-of-movies"
      ]
    },
    {
      "cell_type": "code",
      "execution_count": null,
      "metadata": {
        "colab": {
          "base_uri": "https://localhost:8080/"
        },
        "id": "qeYDhv4BruuW",
        "outputId": "63f84a7d-e1b2-473a-f677-383afeffb31d"
      },
      "outputs": [
        {
          "output_type": "stream",
          "name": "stdout",
          "text": [
            "Archive:  millions-of-movies.zip\n",
            "  inflating: millions-of-movies/movies.csv  \n"
          ]
        }
      ],
      "source": [
        "! unzip millions-of-movies.zip -d millions-of-movies"
      ]
    },
    {
      "cell_type": "markdown",
      "metadata": {
        "id": "L_zc5A4arzOy"
      },
      "source": [
        "# IMPORTING PACKAGE"
      ]
    },
    {
      "cell_type": "markdown",
      "source": [
        "In here we import all the packages that are necessary to compute."
      ],
      "metadata": {
        "id": "a3FyXtJqRQ1v"
      }
    },
    {
      "cell_type": "code",
      "execution_count": null,
      "metadata": {
        "id": "RGPdRWggr_eP"
      },
      "outputs": [],
      "source": [
        "import tensorflow as tf\n",
        "import pandas as pd\n",
        "import matplotlib.pyplot as plt\n",
        "from sklearn.metrics.pairwise import linear_kernel\n",
        "from sklearn.feature_extraction.text import TfidfVectorizer\n",
        "from surprise import Dataset, Reader\n",
        "from surprise.model_selection import train_test_split\n",
        "from surprise import SVD\n",
        "from surprise.model_selection import cross_validate\n",
        "import functools\n",
        "import ipywidgets as widgets\n",
        "from IPython.display import display, Image\n",
        "import numpy as np\n",
        "import matplotlib.pyplot as plt\n"
      ]
    },
    {
      "cell_type": "code",
      "execution_count": null,
      "metadata": {
        "id": "V8CmscoDsD2C"
      },
      "outputs": [],
      "source": [
        "dataframe=pd.read_csv(\"/content/millions-of-movies/movies.csv\")"
      ]
    },
    {
      "cell_type": "markdown",
      "source": [
        "# DATA VISUALIZATION"
      ],
      "metadata": {
        "id": "ZR2NYwVSH1Lq"
      }
    },
    {
      "cell_type": "markdown",
      "source": [
        "Below shown is the visualization of imported data.It basically has 20 metadata (ie. title, genres,language , production_company, crew and cast etc) including the movie poster link. This dataset is the updated version where recently launched movies are added in. This whole structure of this dataset ease to achieve higher accuracy.This entire section provides the overview of data and the operations performed on it."
      ],
      "metadata": {
        "id": "b87yQmPmRhZh"
      }
    },
    {
      "cell_type": "code",
      "execution_count": null,
      "metadata": {
        "id": "VYsTi1eKt6Ux"
      },
      "outputs": [],
      "source": [
        "dataframe.head(5)"
      ]
    },
    {
      "cell_type": "code",
      "execution_count": null,
      "metadata": {
        "colab": {
          "base_uri": "https://localhost:8080/"
        },
        "id": "HTy146bxuNY2",
        "outputId": "50419b6a-59a3-48d4-f9e5-8c7fe4f24e82"
      },
      "outputs": [
        {
          "output_type": "execute_result",
          "data": {
            "text/plain": [
              "(722753, 20)"
            ]
          },
          "metadata": {},
          "execution_count": 137
        }
      ],
      "source": [
        "#contains 722753 rows and 20 columns\n",
        "dataframe.shape"
      ]
    },
    {
      "cell_type": "code",
      "execution_count": null,
      "metadata": {
        "id": "Wkxk95_a1jl3",
        "colab": {
          "base_uri": "https://localhost:8080/"
        },
        "outputId": "44695e16-29ef-43b3-9d08-3c36dd162c22"
      },
      "outputs": [
        {
          "output_type": "stream",
          "name": "stdout",
          "text": [
            "<class 'pandas.core.frame.DataFrame'>\n",
            "RangeIndex: 722753 entries, 0 to 722752\n",
            "Data columns (total 20 columns):\n",
            " #   Column                Non-Null Count   Dtype  \n",
            "---  ------                --------------   -----  \n",
            " 0   id                    722753 non-null  int64  \n",
            " 1   title                 722749 non-null  object \n",
            " 2   genres                511933 non-null  object \n",
            " 3   original_language     722753 non-null  object \n",
            " 4   overview              604180 non-null  object \n",
            " 5   popularity            722753 non-null  float64\n",
            " 6   production_companies  337182 non-null  object \n",
            " 7   release_date          670374 non-null  object \n",
            " 8   budget                722753 non-null  float64\n",
            " 9   revenue               722753 non-null  float64\n",
            " 10  runtime               688309 non-null  float64\n",
            " 11  status                722753 non-null  object \n",
            " 12  tagline               108123 non-null  object \n",
            " 13  vote_average          722753 non-null  float64\n",
            " 14  vote_count            722753 non-null  float64\n",
            " 15  credits               497683 non-null  object \n",
            " 16  keywords              210302 non-null  object \n",
            " 17  poster_path           537580 non-null  object \n",
            " 18  backdrop_path         222572 non-null  object \n",
            " 19  recommendations       34753 non-null   object \n",
            "dtypes: float64(6), int64(1), object(13)\n",
            "memory usage: 110.3+ MB\n"
          ]
        }
      ],
      "source": [
        "dataframe.info()"
      ]
    },
    {
      "cell_type": "code",
      "execution_count": null,
      "metadata": {
        "id": "8xvwCNXk6c6v"
      },
      "outputs": [],
      "source": [
        "# deleting all the duplicated dataframe rows\n",
        "dataframe.isnull().sum()\n",
        "dataframe.drop_duplicates(inplace=True)"
      ]
    },
    {
      "cell_type": "code",
      "execution_count": null,
      "metadata": {
        "id": "9dGLCKJb8E0v"
      },
      "outputs": [],
      "source": [
        "# we ignore repeated movies\n",
        "dataframe[['title','release_date']].duplicated().sum()\n",
        "dataframe.drop_duplicates(subset=['title','release_date'],inplace=True)"
      ]
    },
    {
      "cell_type": "code",
      "execution_count": null,
      "metadata": {
        "id": "AOWXJv0l8gYw",
        "colab": {
          "base_uri": "https://localhost:8080/"
        },
        "outputId": "51e7e5a8-5bee-4218-a840-7e0b36c1bac0"
      },
      "outputs": [
        {
          "output_type": "execute_result",
          "data": {
            "text/plain": [
              "id                      0\n",
              "title                   0\n",
              "genres                  0\n",
              "original_language       0\n",
              "overview                0\n",
              "popularity              0\n",
              "production_companies    0\n",
              "release_date            0\n",
              "budget                  0\n",
              "revenue                 0\n",
              "runtime                 0\n",
              "status                  0\n",
              "tagline                 0\n",
              "vote_average            0\n",
              "vote_count              0\n",
              "credits                 0\n",
              "keywords                0\n",
              "poster_path             0\n",
              "backdrop_path           0\n",
              "recommendations         0\n",
              "dtype: int64"
            ]
          },
          "metadata": {},
          "execution_count": 141
        }
      ],
      "source": [
        "# considering genres and overviews as the key predict, we fill up the null value\n",
        "dataframe.fillna('',inplace=True)\n",
        "null_value=dataframe[(dataframe['genres']=='') & (dataframe['overview']=='')].index\n",
        "dataframe.drop(null_value,inplace=True)\n",
        "\n",
        "dataframe.isnull().sum() # we obtain no duplication"
      ]
    },
    {
      "cell_type": "code",
      "source": [
        "# Bar graph, Popularity vs Title\n",
        "pop= dataframe.sort_values('popularity', ascending=False)\n",
        "plt.figure(figsize=(12,4))\n",
        "\n",
        "plt.barh(pop['title'].head(6),pop['popularity'].head(6), align='center',\n",
        "        color='skyblue')\n",
        "plt.gca().invert_yaxis()\n",
        "plt.xlabel(\"Popularity\")\n",
        "plt.title(\"Popular Movies\")\n"
      ],
      "metadata": {
        "colab": {
          "base_uri": "https://localhost:8080/",
          "height": 315
        },
        "id": "qjD9LR1b-TUM",
        "outputId": "c8be6ed2-3c3e-4ad7-cc56-658c717b3cc4"
      },
      "execution_count": null,
      "outputs": [
        {
          "output_type": "execute_result",
          "data": {
            "text/plain": [
              "Text(0.5, 1.0, 'Popular Movies')"
            ]
          },
          "metadata": {},
          "execution_count": 142
        },
        {
          "output_type": "display_data",
          "data": {
            "text/plain": [
              "<Figure size 1200x400 with 1 Axes>"
            ],
            "image/png": "[encoded data removed]"
          },
          "metadata": {}
        }
      ]
    },
    {
      "cell_type": "code",
      "source": [
        "#bar graph , title vs vote_average\n",
        "pop= dataframe.sort_values('title', ascending=False)\n",
        "import matplotlib.pyplot as plt\n",
        "plt.figure(figsize=(12,4))\n",
        "plt.barh(pop['title'].head(6),pop['vote_average'].head(6), align='center',color='green')\n",
        "plt.gca().invert_yaxis()\n",
        "plt.xlabel(\"average vote count\")\n",
        "plt.title(\"vote count of few movies\")\n"
      ],
      "metadata": {
        "colab": {
          "base_uri": "https://localhost:8080/",
          "height": 448
        },
        "id": "RP833MJz_0NO",
        "outputId": "27a0d480-b3d1-4ffb-99b9-be1e78762713"
      },
      "execution_count": null,
      "outputs": [
        {
          "output_type": "execute_result",
          "data": {
            "text/plain": [
              "Text(0.5, 1.0, 'vote count of few movies')"
            ]
          },
          "metadata": {},
          "execution_count": 120
        },
        {
          "output_type": "display_data",
          "data": {
            "text/plain": [
              "<Figure size 1200x400 with 1 Axes>"
            ],
            "image/png": "[encoded data removed]"
          },
          "metadata": {}
        }
      ]
    },
    {
      "cell_type": "markdown",
      "source": [
        "# PREPROCESSING"
      ],
      "metadata": {
        "id": "r3zRD811It8H"
      }
    },
    {
      "cell_type": "markdown",
      "source": [
        "Data Preprocessing is one of the important task to perform in any machine learning or deep learning algorithm. Here in this section we preprocess the data by applying parameters to vote_mean and vote_percentile. We then calculate the weighted_average( explained below ) and create a new column \"Score\". Further we consider features to produce precise predictions."
      ],
      "metadata": {
        "id": "WBS8gnuFUd5X"
      }
    },
    {
      "cell_type": "code",
      "source": [
        "vote_mean=dataframe['vote_average'].mean() #calculating mean value of the voting for a particular movie\n",
        "vote_percentile=dataframe['vote_count'].quantile(0.9) # calculating the percentile of vote obtained\n",
        "vote_mean,vote_percentile"
      ],
      "metadata": {
        "id": "hU52LhbdI4Ep",
        "colab": {
          "base_uri": "https://localhost:8080/"
        },
        "outputId": "26b8b46e-ce5e-4bca-f093-cd495b0baab0"
      },
      "execution_count": null,
      "outputs": [
        {
          "output_type": "execute_result",
          "data": {
            "text/plain": [
              "(2.4440652625807338, 11.0)"
            ]
          },
          "metadata": {},
          "execution_count": 143
        }
      ]
    },
    {
      "cell_type": "markdown",
      "source": [
        "We can't consider movies which high rating with less people voting for it, so according to IMDb Weighted Average function the right approach is to consider the percentile and mean of votes. The equaltion of this is show below:\n",
        "            (v/(v+vote_percentile)*R)+(vote_percentile/(vote_percentile+v)*vote_mean)\n",
        "\n",
        "[IMDb Weighted Average](https://math.stackexchange.com/questions/169032/understanding-the-imdb-weighted-rating-function-for-usage-on-my-own-website)\n",
        "\n",
        "Now we have the most accurate rating of each movie"
      ],
      "metadata": {
        "id": "hJLIECaCWA5b"
      }
    },
    {
      "cell_type": "code",
      "execution_count": null,
      "metadata": {
        "id": "QKCb98-oGPfw"
      },
      "outputs": [],
      "source": [
        "def weighted_average(X,vote_mean=vote_mean,vote_percentile=vote_percentile):\n",
        "    R=X['vote_average']\n",
        "    v=X['vote_count']\n",
        "    return round((v/(v+vote_percentile)*R)+(vote_percentile/(vote_percentile+v)*vote_mean))"
      ]
    },
    {
      "cell_type": "code",
      "source": [
        "# consider movies having vote_count more that 20\n",
        "dataframe = dataframe[dataframe.vote_count>=20].reset_index()\n",
        "dataframe.shape"
      ],
      "metadata": {
        "colab": {
          "base_uri": "https://localhost:8080/"
        },
        "id": "4L3FJENsF164",
        "outputId": "e8a31cd4-36eb-4f96-de78-baa42834617a"
      },
      "execution_count": null,
      "outputs": [
        {
          "output_type": "execute_result",
          "data": {
            "text/plain": [
              "(44962, 21)"
            ]
          },
          "metadata": {},
          "execution_count": 145
        }
      ]
    },
    {
      "cell_type": "code",
      "execution_count": null,
      "metadata": {
        "id": "TybZlY5qIxmV",
        "colab": {
          "base_uri": "https://localhost:8080/"
        },
        "outputId": "7743dda7-2303-4dda-e282-ce9d7f310a4e"
      },
      "outputs": [
        {
          "output_type": "execute_result",
          "data": {
            "text/plain": [
              "0        7\n",
              "1        8\n",
              "2        7\n",
              "3        7\n",
              "4        6\n",
              "        ..\n",
              "44957    5\n",
              "44958    6\n",
              "44959    7\n",
              "44960    7\n",
              "44961    3\n",
              "Name: score, Length: 44962, dtype: int64"
            ]
          },
          "metadata": {},
          "execution_count": 146
        }
      ],
      "source": [
        "# adding column \"score\" into the dataframe\n",
        "dataframe['score']=dataframe.apply(weighted_average,axis=1)\n",
        "dataframe['score']"
      ]
    },
    {
      "cell_type": "code",
      "execution_count": null,
      "metadata": {
        "id": "bMzW-50bDS9W"
      },
      "outputs": [],
      "source": [
        "# In here we remove noise ('-') from each column in the dataframe.\n",
        "# we do this for genres,overview,credits,keywords\n",
        "dataframe['genres']=dataframe['genres'].apply(lambda i:' '.join(i.split('-')))\n",
        "dataframe['overview']=dataframe['overview'].apply(lambda i:' '.join(i.split('-')))\n",
        "dataframe['credits']=dataframe['credits'].apply(lambda i:' '.join(i.split('-')[:5]))\n",
        "dataframe['keywords']=dataframe['keywords'].apply(lambda i:' '.join(i.split('-')))"
      ]
    },
    {
      "cell_type": "code",
      "execution_count": null,
      "metadata": {
        "id": "_EDVHI6jE7N6",
        "colab": {
          "base_uri": "https://localhost:8080/",
          "height": 146
        },
        "outputId": "038fa1f6-1f09-4bab-ae67-29ebc51e12ee"
      },
      "outputs": [
        {
          "output_type": "execute_result",
          "data": {
            "text/plain": [
              "\"Action Adventure Science Fiction When his attempt to save his family inadvertently alters the future Barry Allen becomes trapped in a reality in which General Zod has returned and there are no Super Heroes to turn to. In order to save the world that he is in and return to the future that he knows Barry's only hope is to race for his life. But will making the ultimate sacrifice be enough to reset the universe? Ezra Miller Sasha Calle Michael Keaton Michael Shannon Ron Livingston secret identity hero superhero based on comic superhuman super power aftercreditsstinger butterfly effect dc extended universe (dceu) superhuman abilities loss of mother\""
            ],
            "application/vnd.google.colaboratory.intrinsic+json": {
              "type": "string"
            }
          },
          "metadata": {},
          "execution_count": 148
        }
      ],
      "source": [
        "# We consider only genres,overview,credits,keywords as our features\n",
        "dataframe['features']=dataframe['genres']+' '+ dataframe['overview']+' ' + dataframe['credits']+' '+dataframe['keywords']\n",
        "dataframe['features'][3]"
      ]
    },
    {
      "cell_type": "code",
      "execution_count": null,
      "metadata": {
        "colab": {
          "base_uri": "https://localhost:8080/",
          "height": 203
        },
        "id": "FE7VBzqyEaQk",
        "outputId": "0d31c47d-e530-42ef-9662-b080db071d8b"
      },
      "outputs": [
        {
          "output_type": "stream",
          "name": "stderr",
          "text": [
            "<ipython-input-149-c46d0fe3fbd5>:2: FutureWarning: The default value of regex will change from True to False in a future version.\n",
            "  dataframe['features']=dataframe['features'].str.replace('[^\\w\\s]','')\n"
          ]
        },
        {
          "output_type": "execute_result",
          "data": {
            "text/plain": [
              "'Action Adventure Science Fiction When his attempt to save his family inadvertently alters the future Barry Allen becomes trapped in a reality in which General Zod has returned and there are no Super Heroes to turn to In order to save the world that he is in and return to the future that he knows Barrys only hope is to race for his life But will making the ultimate sacrifice be enough to reset the universe Ezra Miller Sasha Calle Michael Keaton Michael Shannon Ron Livingston secret identity hero superhero based on comic superhuman super power aftercreditsstinger butterfly effect dc extended universe dceu superhuman abilities loss of mother'"
            ],
            "application/vnd.google.colaboratory.intrinsic+json": {
              "type": "string"
            }
          },
          "metadata": {},
          "execution_count": 149
        }
      ],
      "source": [
        "# remove noise\n",
        "dataframe['features']=dataframe['features'].str.replace('[^\\w\\s]','')\n",
        "dataframe['features'][3]"
      ]
    },
    {
      "cell_type": "markdown",
      "metadata": {
        "id": "b0LEPzHGUgYj"
      },
      "source": [
        "# CONTENT BASED FILTERING"
      ]
    },
    {
      "cell_type": "markdown",
      "source": [
        "Content-based filtering uses item features to recommend other items similar to what the user likes, based on their previous actions or explicit feedback.The approach can be used in various domains, such as movies, music, books, and products, where items have well-defined attributes."
      ],
      "metadata": {
        "id": "IuMPtgXdYJXS"
      }
    },
    {
      "cell_type": "code",
      "execution_count": null,
      "metadata": {
        "colab": {
          "base_uri": "https://localhost:8080/"
        },
        "id": "PUlSn8kzDkRl",
        "outputId": "e53c2601-56da-4e28-f142-fbb59642cf39"
      },
      "outputs": [
        {
          "output_type": "stream",
          "name": "stdout",
          "text": [
            "  (0, 97352)\t0.0993179995386393\n",
            "  (0, 480)\t0.11061342648948395\n",
            "  (0, 79769)\t0.11088986385557996\n",
            "  (0, 17706)\t0.12223553236711261\n",
            "  (0, 92856)\t0.1660975904322981\n",
            "  (0, 26904)\t0.11797388925925338\n",
            "  (0, 77602)\t0.1293169263079736\n",
            "  (0, 78848)\t0.14374914136512434\n",
            "  (0, 49743)\t0.10046679237938015\n",
            "  (0, 85738)\t0.11351532018249452\n",
            "  (0, 94487)\t0.11066839016751498\n",
            "  (0, 26636)\t0.19982754549296616\n",
            "  (0, 76980)\t0.08457133456128621\n",
            "  (0, 70763)\t0.14649217296471423\n",
            "  (0, 36800)\t0.11532875777344388\n",
            "  (0, 32800)\t0.18677901768985178\n",
            "  (0, 3326)\t0.10072467375939761\n",
            "  (0, 112272)\t0.1902112294475497\n",
            "  (0, 24667)\t0.09333130964769219\n",
            "  (0, 23506)\t0.14686495834146518\n",
            "  (0, 86646)\t0.10949477784469971\n",
            "  (0, 45000)\t0.10575479280630032\n",
            "  (0, 102608)\t0.13778326372030508\n",
            "  (0, 26652)\t0.12233756538845636\n",
            "  (0, 21882)\t0.21707387674634163\n",
            "  :\t:\n",
            "  (44961, 7591)\t0.14228078357722646\n",
            "  (44961, 104158)\t0.11785104272622074\n",
            "  (44961, 100426)\t0.0979571457234379\n",
            "  (44961, 44355)\t0.120828189113882\n",
            "  (44961, 104498)\t0.11768876334369803\n",
            "  (44961, 85570)\t0.1403889137313673\n",
            "  (44961, 53851)\t0.1020667284267249\n",
            "  (44961, 22236)\t0.10373443861121596\n",
            "  (44961, 25575)\t0.11299392894339519\n",
            "  (44961, 24651)\t0.10354523793627228\n",
            "  (44961, 62288)\t0.06545941143039415\n",
            "  (44961, 71683)\t0.21139995048268362\n",
            "  (44961, 70712)\t0.23770569802719246\n",
            "  (44961, 20052)\t0.07960090773193747\n",
            "  (44961, 23265)\t0.1260918217485734\n",
            "  (44961, 35347)\t0.06599715764731544\n",
            "  (44961, 55847)\t0.13337275254006412\n",
            "  (44961, 74277)\t0.12095429449977015\n",
            "  (44961, 19570)\t0.10145065136162187\n",
            "  (44961, 29217)\t0.037508009971205236\n",
            "  (44961, 75619)\t0.13558327670192294\n",
            "  (44961, 1745)\t0.05644212051445611\n",
            "  (44961, 59556)\t0.07981792405731089\n",
            "  (44961, 76980)\t0.09149385030197454\n",
            "  (44961, 21882)\t0.11742113853664247\n"
          ]
        }
      ],
      "source": [
        "# using tfidf vectorizer to vectorize the feature value.\n",
        "# This converts english words into numerical values.\n",
        "tfidf=TfidfVectorizer(stop_words='english')\n",
        "tfidf_vector=tfidf.fit_transform(dataframe['features'])\n",
        "\n",
        "print(tfidf_vector)"
      ]
    },
    {
      "cell_type": "code",
      "execution_count": null,
      "metadata": {
        "colab": {
          "base_uri": "https://localhost:8080/"
        },
        "id": "Q2K2Ejd3WTAt",
        "outputId": "7dc7db0b-ac8f-4051-de71-09f1f95cbc32"
      },
      "outputs": [
        {
          "output_type": "execute_result",
          "data": {
            "text/plain": [
              "(44962, 113001)"
            ]
          },
          "metadata": {},
          "execution_count": 151
        }
      ],
      "source": [
        "tfidf_vector.shape"
      ]
    },
    {
      "cell_type": "markdown",
      "source": [
        "Formula used in Content-Based Filtering:\n",
        "To calculate the similarity between items, the system typically employs a similarity metric such as cosine similarity or Euclidean distance. Let's consider cosine similarity for item A and item B:\n",
        "\n",
        "Cosine Similarity between items A and B:\n",
        "Cosine_Similarity(A, B) = (A ⋅ B) / (||A|| * ||B||)"
      ],
      "metadata": {
        "id": "D70AtR6RZQrB"
      }
    },
    {
      "cell_type": "markdown",
      "source": [
        "#COLABORATIVE FILTERING"
      ],
      "metadata": {
        "id": "FVjT-2SkEyrt"
      }
    },
    {
      "cell_type": "markdown",
      "source": [
        "Collaborative filtering is a recommendation technique that identifies patterns in user-item interactions and leverages the behavior of multiple users to make personalized recommendations. It focuses on finding similarities between users or items based on their historical interactions to suggest items that users with similar tastes have enjoyed.We use surprise module for this purpose"
      ],
      "metadata": {
        "id": "WsHLE1fzZhbw"
      }
    },
    {
      "cell_type": "code",
      "source": [
        "!pip install surprise"
      ],
      "metadata": {
        "id": "ZwcOvr1SSvwN",
        "colab": {
          "base_uri": "https://localhost:8080/"
        },
        "outputId": "4231b384-f88e-4a67-d3ad-0ed069141fda"
      },
      "execution_count": null,
      "outputs": [
        {
          "output_type": "stream",
          "name": "stdout",
          "text": [
            "Collecting surprise\n",
            "  Downloading surprise-0.1-py2.py3-none-any.whl (1.8 kB)\n",
            "Collecting scikit-surprise (from surprise)\n",
            "  Downloading scikit-surprise-1.1.3.tar.gz (771 kB)\n",
            "\u001b[?25l     \u001b[90m━━━━━━━━━━━━━━━━━━━━━━━━━━━━━━━━━━━━━━━━\u001b[0m \u001b[32m0.0/772.0 kB\u001b[0m \u001b[31m?\u001b[0m eta \u001b[36m-:--:--\u001b[0m\r\u001b[2K     \u001b[91m━━━━━━━━━━━━━━━━━━━━━━━━━━━━━━━━━━━━━\u001b[0m\u001b[91m╸\u001b[0m \u001b[32m768.0/772.0 kB\u001b[0m \u001b[31m26.6 MB/s\u001b[0m eta \u001b[36m0:00:01\u001b[0m\r\u001b[2K     \u001b[90m━━━━━━━━━━━━━━━━━━━━━━━━━━━━━━━━━━━━━━\u001b[0m \u001b[32m772.0/772.0 kB\u001b[0m \u001b[31m19.7 MB/s\u001b[0m eta \u001b[36m0:00:00\u001b[0m\n",
            "\u001b[?25h  Preparing metadata (setup.py) ... \u001b[?25l\u001b[?25hdone\n",
            "Requirement already satisfied: joblib>=1.0.0 in /usr/local/lib/python3.10/dist-packages (from scikit-surprise->surprise) (1.3.1)\n",
            "Requirement already satisfied: numpy>=1.17.3 in /usr/local/lib/python3.10/dist-packages (from scikit-surprise->surprise) (1.22.4)\n",
            "Requirement already satisfied: scipy>=1.3.2 in /usr/local/lib/python3.10/dist-packages (from scikit-surprise->surprise) (1.10.1)\n",
            "Building wheels for collected packages: scikit-surprise\n",
            "  Building wheel for scikit-surprise (setup.py) ... \u001b[?25l\u001b[?25hdone\n",
            "  Created wheel for scikit-surprise: filename=scikit_surprise-1.1.3-cp310-cp310-linux_x86_64.whl size=2811638 sha256=a76080bc226e69e8975346f173c75e8d788ab9264d18461539c432c65bfcc083\n",
            "  Stored in directory: /root/.cache/pip/wheels/a5/ca/a8/4e28def53797fdc4363ca4af740db15a9c2f1595ebc51fb445\n",
            "Successfully built scikit-surprise\n",
            "Installing collected packages: scikit-surprise, surprise\n",
            "Successfully installed scikit-surprise-1.1.3 surprise-0.1\n"
          ]
        }
      ]
    },
    {
      "cell_type": "markdown",
      "source": [
        "SVD stands for Singular Value Decomposition, and it is a mathematical technique used in various applications, including recommendation systems, image processing, data compression, and more. In"
      ],
      "metadata": {
        "id": "si6ahiZuZ3Su"
      }
    },
    {
      "cell_type": "code",
      "source": [
        "reader = Reader(rating_scale=(1, 10)) #rating ranging from 1-10\n",
        "data = Dataset.load_from_df(dataframe[['id', 'title', 'score']], reader)\n",
        "trainset, testset = train_test_split(data, test_size=0.2)\n",
        "colab_filt = SVD()\n",
        "cross_validate(colab_filt, data, measures=['RMSE', 'MAE'],cv=5,verbose=True) # model evaluation"
      ],
      "metadata": {
        "colab": {
          "base_uri": "https://localhost:8080/"
        },
        "id": "mbs9FLMDE2QJ",
        "outputId": "14c5b757-d0d3-4d69-ac4b-d0046bf8c910"
      },
      "execution_count": null,
      "outputs": [
        {
          "output_type": "stream",
          "name": "stdout",
          "text": [
            "Evaluating RMSE, MAE of algorithm SVD on 5 split(s).\n",
            "\n",
            "                  Fold 1  Fold 2  Fold 3  Fold 4  Fold 5  Mean    Std     \n",
            "RMSE (testset)    1.0104  1.0223  1.0251  1.0132  1.0237  1.0189  0.0060  \n",
            "MAE (testset)     0.8264  0.8328  0.8393  0.8270  0.8390  0.8329  0.0056  \n",
            "Fit time          0.59    0.69    0.58    0.61    0.60    0.61    0.04    \n",
            "Test time         0.04    0.04    0.04    0.04    0.05    0.04    0.00    \n"
          ]
        },
        {
          "output_type": "execute_result",
          "data": {
            "text/plain": [
              "{'test_rmse': array([1.01037949, 1.0223365 , 1.02513645, 1.01316548, 1.02368071]),\n",
              " 'test_mae': array([0.82639918, 0.83275017, 0.83933859, 0.82700323, 0.83902893]),\n",
              " 'fit_time': (0.58522629737854,\n",
              "  0.6937239170074463,\n",
              "  0.5847275257110596,\n",
              "  0.6113898754119873,\n",
              "  0.5971872806549072),\n",
              " 'test_time': (0.04375147819519043,\n",
              "  0.042978763580322266,\n",
              "  0.044641733169555664,\n",
              "  0.04196643829345703,\n",
              "  0.0493621826171875)}"
            ]
          },
          "metadata": {},
          "execution_count": 152
        }
      ]
    },
    {
      "cell_type": "code",
      "source": [
        "colab_filt.fit(trainset)"
      ],
      "metadata": {
        "id": "B6O9nujdJh1W",
        "colab": {
          "base_uri": "https://localhost:8080/"
        },
        "outputId": "2c5c0c55-dc62-4af7-81e9-a3f9e41c2719"
      },
      "execution_count": null,
      "outputs": [
        {
          "output_type": "execute_result",
          "data": {
            "text/plain": [
              "<surprise.prediction_algorithms.matrix_factorization.SVD at 0x7ee371d3aef0>"
            ]
          },
          "metadata": {},
          "execution_count": 153
        }
      ]
    },
    {
      "cell_type": "markdown",
      "source": [
        "#**HYBRID MODEL**"
      ],
      "metadata": {
        "id": "sx00tQN6Ji6U"
      }
    },
    {
      "cell_type": "markdown",
      "source": [
        "This is an unique approach where the profit of content based filtering and colaborative filtering are summed up into single model called hybrid model. This model takes in user_id and title of the movie and predict the movie recommended by both content and colaborative filtering."
      ],
      "metadata": {
        "id": "f1pporflaIqJ"
      }
    },
    {
      "cell_type": "code",
      "source": [
        "@functools.lru_cache(maxsize=None)\n",
        "def hybrid_recommendations(user_id, title, n=5):\n",
        "    movie_index = dataframe[dataframe['title'] == title].index[0]\n",
        "    #content-based-filtering\n",
        "    content_scores = list(enumerate(linear_kernel(tfidf_vector,tfidf_vector[movie_index])))\n",
        "    content_scores = sorted(content_scores, key=lambda x: x[1], reverse=True)\n",
        "    content_based_rec = [dataframe['title'].iloc[idx] for idx, _ in content_scores[2:n+1]]\n",
        "\n",
        "    #collaborative filtering\n",
        "    user_movie_titles = dataframe[dataframe['id'] == user_id]['title'].values\n",
        "    user_movie_recs = [title for title in dataframe['title'].unique() if title not in user_movie_titles]\n",
        "    collaborative_rec = [title for title in user_movie_recs if colab_filt.predict(user_id, title).est > 3.5][:n]\n",
        "    #hybrid model\n",
        "    return content_based_rec+collaborative_rec\n",
        "\n",
        "\n",
        "\n",
        "user_id = 667538\n",
        "movie_title = \"Ant-Man and the Wasp: Quantumania\"\n",
        "recommendations = hybrid_recommendations(user_id, movie_title, n=6)\n",
        "print(\"Hybrid Recommendations:\")\n",
        "for idx, movie in enumerate(recommendations, start=1):\n",
        "    print(f\"{idx}. {movie}\")\n"
      ],
      "metadata": {
        "colab": {
          "base_uri": "https://localhost:8080/"
        },
        "id": "3qS1IPf6FGlo",
        "outputId": "323d3ace-fd8f-4c8c-a8d2-8fce6716479b"
      },
      "execution_count": null,
      "outputs": [
        {
          "output_type": "stream",
          "name": "stdout",
          "text": [
            "Hybrid Recommendations:\n",
            "1. Ant-Man\n",
            "2. Spider-Man: No Way Home\n",
            "3. Captain Marvel\n",
            "4. Guardians of the Galaxy Vol. 3\n",
            "5. Guardians of the Galaxy Vol. 2\n",
            "6. The Pope's Exorcist\n",
            "7. Barbie\n",
            "8. The Flash\n",
            "9. Ant-Man and the Wasp: Quantumania\n",
            "10. Creed III\n",
            "11. The Super Mario Bros. Movie\n"
          ]
        }
      ]
    },
    {
      "cell_type": "markdown",
      "source": [
        "# USER INTERFACE USING IPY WIDGETS"
      ],
      "metadata": {
        "id": "u8iZAomB9Lrg"
      }
    },
    {
      "cell_type": "markdown",
      "source": [
        "I made an attempt to put this in a small user interface model ie ipywidgets . This frame has two buttons one for movie selection and other for recommendations. On passing the title the model makes best recommendations possible."
      ],
      "metadata": {
        "id": "VBQiNQEHbOQe"
      }
    },
    {
      "cell_type": "code",
      "source": [
        "def display_recommendations(btn):\n",
        "    user_id = 502356\n",
        "    movie_title = random_movie\n",
        "    n_recommendations = 6\n",
        "\n",
        "    # Get the top N hybrid recommendations\n",
        "    hybrid_rec = hybrid_recommendations(user_id, movie_title, n=n_recommendations)\n",
        "\n",
        "    # Display the recommendations in the output frame\n",
        "    recommendations_output.clear_output()\n",
        "    with recommendations_output:\n",
        "        print(\"Movie Recommendations:\")\n",
        "        for idx, movie in enumerate(hybrid_rec, start=1):\n",
        "            print(f\"{idx}. {movie}\")\n",
        "\n",
        "# button to select a random movie image\n",
        "random_movie_button = widgets.Button(description=\"Select Random Movie\")\n",
        "\n",
        "# button for movie recommendations\n",
        "recommend_button = widgets.Button(description=\"Give Recommendation\")\n",
        "\n",
        "# output frame to display recommendations\n",
        "recommendations_output = widgets.Output()\n",
        "\n",
        "def random_movie_button_click(btn):\n",
        "    global random_movie\n",
        "    movie_titles = dataframe['title'].unique()\n",
        "    random_movie = np.random.choice(movie_titles)\n",
        "    base_domain = 'https://image.tmdb.org/t/p/w500'\n",
        "    image_links = base_domain+dataframe.loc[dataframe['title'] == random_movie, 'poster_path'].iloc[0]\n",
        "\n",
        "\n",
        "    image_widget = Image(url=image_links, width=200, height=300)\n",
        "    display(image_widget)\n",
        "\n",
        "\n",
        "random_movie_button.on_click(random_movie_button_click)\n",
        "recommend_button.on_click(display_recommendations)\n",
        "intro_text = widgets.HTML(\"<h2>Ahoy there, matey! Avast ye!</h2>\")\n",
        "random_movie_text = widgets.HTML(\"<p>Let's go grab some recommendations.</p>\")\n",
        "\n",
        "display(intro_text)\n",
        "display(random_movie_text)\n",
        "display(random_movie_button)\n",
        "display(recommendations_output)\n",
        "display(recommend_button)\n"
      ],
      "metadata": {
        "colab": {
          "base_uri": "https://localhost:8080/",
          "height": 175,
          "referenced_widgets": [
            "f5c1810d58fb4537a9ce846435f5086f",
            "b67b74a154f44802a29748730b74c4c1",
            "5437d758cd9c4163937e3215576a7fe2",
            "b0b87b4e7c5b466e88f6e77e275e3b57",
            "ae2d44377c6547549b75fd4d7d60332c",
            "6924c6bd8915479eb5b0967bae18ba40",
            "85eb4e86b10e486dbce9628301fe20b7",
            "5ff72d1264734b619bad59d485bae358",
            "07efaf6de86b40e3b6079b0298e48db2",
            "7a008f98f0cf466da9527aef81cb488f",
            "b36ddc9b938040198f3f2af06bd69ac6",
            "fb8c3f01db3b48adabed40087eb402bb",
            "0c72f23b39ca458c8b7f4a73670c276f",
            "4c3b93e38fd445099a3627911c3c7375"
          ]
        },
        "id": "khToNwHrNhWH",
        "outputId": "b5150a01-35fb-4523-8e92-3e2e28e9e353"
      },
      "execution_count": null,
      "outputs": [
        {
          "output_type": "display_data",
          "data": {
            "text/plain": [
              "HTML(value='<h2>Ahoy there, matey! Avast ye!</h2>')"
            ],
            "application/vnd.jupyter.widget-view+json": {
              "version_major": 2,
              "version_minor": 0,
              "model_id": "f5c1810d58fb4537a9ce846435f5086f"
            }
          },
          "metadata": {}
        },
        {
          "output_type": "display_data",
          "data": {
            "text/plain": [
              "HTML(value=\"<p>Let's go grab some recommendations.</p>\")"
            ],
            "application/vnd.jupyter.widget-view+json": {
              "version_major": 2,
              "version_minor": 0,
              "model_id": "b0b87b4e7c5b466e88f6e77e275e3b57"
            }
          },
          "metadata": {}
        },
        {
          "output_type": "display_data",
          "data": {
            "text/plain": [
              "Button(description='Select Random Movie', style=ButtonStyle())"
            ],
            "application/vnd.jupyter.widget-view+json": {
              "version_major": 2,
              "version_minor": 0,
              "model_id": "85eb4e86b10e486dbce9628301fe20b7"
            }
          },
          "metadata": {}
        },
        {
          "output_type": "display_data",
          "data": {
            "text/plain": [
              "Output()"
            ],
            "application/vnd.jupyter.widget-view+json": {
              "version_major": 2,
              "version_minor": 0,
              "model_id": "7a008f98f0cf466da9527aef81cb488f"
            }
          },
          "metadata": {}
        },
        {
          "output_type": "display_data",
          "data": {
            "text/plain": [
              "Button(description='Give Recommendation', style=ButtonStyle())"
            ],
            "application/vnd.jupyter.widget-view+json": {
              "version_major": 2,
              "version_minor": 0,
              "model_id": "fb8c3f01db3b48adabed40087eb402bb"
            }
          },
          "metadata": {}
        }
      ]
    },
    {
      "cell_type": "code",
      "source": [
        "def display_recommendations(btn):\n",
        "    user_id = 502356\n",
        "    movie_title = random_movie\n",
        "    n_recommendations = 6\n",
        "\n",
        "    # Get the top N hybrid recommendations\n",
        "    hybrid_rec = hybrid_recommendations(user_id, movie_title, n=n_recommendations)\n",
        "\n",
        "    # Display the recommendations in the output frame\n",
        "    recommendations_output.clear_output()\n",
        "    with recommendations_output:\n",
        "        print(\"Movie Recommendations:\")\n",
        "        for idx, movie in enumerate(hybrid_rec, start=1):\n",
        "            print(f\"{idx}. {movie}\")\n",
        "\n",
        "# button to select a random movie image\n",
        "random_movie_button = widgets.Button(description=\"Select Random Movie\")\n",
        "\n",
        "# button for movie recommendations\n",
        "recommend_button = widgets.Button(description=\"Give Recommendation\")\n",
        "\n",
        "# output frame to display recommendations\n",
        "recommendations_output = widgets.Output()\n",
        "\n",
        "def random_movie_button_click(btn):\n",
        "    global random_movie\n",
        "    movie_titles = dataframe['title'].unique()\n",
        "    random_movie = np.random.choice(movie_titles)\n",
        "    base_domain = 'https://image.tmdb.org/t/p/w500'\n",
        "    image_links = base_domain+dataframe.loc[dataframe['title'] == random_movie, 'poster_path'].iloc[0]\n",
        "\n",
        "\n",
        "    image_widget = Image(url=image_links, width=200, height=300)\n",
        "    display(image_widget)\n",
        "\n",
        "\n",
        "random_movie_button.on_click(random_movie_button_click)\n",
        "recommend_button.on_click(display_recommendations)\n",
        "intro_text = widgets.HTML(\"<h2>Ahoy there, matey! Avast ye!</h2>\")\n",
        "random_movie_text = widgets.HTML(\"<p>Let's go grab some recommendations.</p>\")\n",
        "\n",
        "display(intro_text)\n",
        "display(random_movie_text)\n",
        "display(random_movie_button)\n",
        "display(recommendations_output)\n",
        "display(recommend_button)\n"
      ],
      "metadata": {
        "colab": {
          "base_uri": "https://localhost:8080/",
          "height": 701,
          "referenced_widgets": [
            "95b36069e88e420194e73fc9a2a8c87c",
            "49667314444642b8b721df52e74d4a65",
            "182560a320e0406ead80bdbd81d288c2",
            "3a3b668b21634cb180ef7980243c8ae9",
            "a3d7879b97be42088a032dceec6c9d36",
            "b39f5284ffc04a79aa062a8f7b21f240",
            "206dd8758cdd432dbe91b5d3c31d7ccd",
            "0ccd0f78caf848b4a9411c302491174f",
            "6f43cf4676cd480f9442488769c2f7a3",
            "67b71a32fdf64fe99e257156aff849b7",
            "e6958b16bf264fcf95291ac60048d149",
            "e9bd2456e1e242e897b1d1478f8b9d03",
            "dfca63a2908744a9974d1e788161ff2a",
            "6339f97e2aca470187e31920aa778d83"
          ]
        },
        "outputId": "681b2739-cb4f-42b8-ad04-732ee2c6e07d",
        "id": "MgETNNYvb1F8"
      },
      "execution_count": null,
      "outputs": [
        {
          "output_type": "display_data",
          "data": {
            "text/plain": [
              "HTML(value='<h2>Ahoy there, matey! Avast ye!</h2>')"
            ],
            "application/vnd.jupyter.widget-view+json": {
              "version_major": 2,
              "version_minor": 0,
              "model_id": "95b36069e88e420194e73fc9a2a8c87c"
            }
          },
          "metadata": {}
        },
        {
          "output_type": "display_data",
          "data": {
            "text/plain": [
              "HTML(value=\"<p>Let's go grab some recommendations.</p>\")"
            ],
            "application/vnd.jupyter.widget-view+json": {
              "version_major": 2,
              "version_minor": 0,
              "model_id": "3a3b668b21634cb180ef7980243c8ae9"
            }
          },
          "metadata": {}
        },
        {
          "output_type": "display_data",
          "data": {
            "text/plain": [
              "Button(description='Select Random Movie', style=ButtonStyle())"
            ],
            "application/vnd.jupyter.widget-view+json": {
              "version_major": 2,
              "version_minor": 0,
              "model_id": "206dd8758cdd432dbe91b5d3c31d7ccd"
            }
          },
          "metadata": {}
        },
        {
          "output_type": "display_data",
          "data": {
            "text/plain": [
              "Output()"
            ],
            "application/vnd.jupyter.widget-view+json": {
              "version_major": 2,
              "version_minor": 0,
              "model_id": "67b71a32fdf64fe99e257156aff849b7"
            }
          },
          "metadata": {}
        },
        {
          "output_type": "display_data",
          "data": {
            "text/plain": [
              "Button(description='Give Recommendation', style=ButtonStyle())"
            ],
            "application/vnd.jupyter.widget-view+json": {
              "version_major": 2,
              "version_minor": 0,
              "model_id": "e9bd2456e1e242e897b1d1478f8b9d03"
            }
          },
          "metadata": {}
        },
        {
          "output_type": "display_data",
          "data": {
            "text/html": [
              "<img src=\"https://image.tmdb.org/t/p/w500/9PaIkUnfOcU1wi5cFbamnmAkjEs.jpg\" width=\"200\" height=\"300\"/>"
            ],
            "text/plain": [
              "<IPython.core.display.Image object>"
            ]
          },
          "metadata": {}
        }
      ]
    }
  ],
  "metadata": {
    "colab": {
      "provenance": [],
      "toc_visible": true,
      "authorship_tag": "ABX9TyMNCliPFmJuk2IClOkkSOmX",
      "include_colab_link": true
    },
    "kernelspec": {
      "display_name": "Python 3",
      "name": "python3"
    },
    "language_info": {
      "name": "python"
    },
    "widgets": {
      "application/vnd.jupyter.widget-state+json": {
        "f5c1810d58fb4537a9ce846435f5086f": {
          "model_module": "@jupyter-widgets/controls",
          "model_name": "HTMLModel",
          "model_module_version": "1.5.0",
          "state": {
            "_dom_classes": [],
            "_model_module": "@jupyter-widgets/controls",
            "_model_module_version": "1.5.0",
            "_model_name": "HTMLModel",
            "_view_count": null,
            "_view_module": "@jupyter-widgets/controls",
            "_view_module_version": "1.5.0",
            "_view_name": "HTMLView",
            "description": "",
            "description_tooltip": null,
            "layout": "IPY_MODEL_b67b74a154f44802a29748730b74c4c1",
            "placeholder": "​",
            "style": "IPY_MODEL_5437d758cd9c4163937e3215576a7fe2",
            "value": "<h2>Ahoy there, matey! Avast ye!</h2>"
          }
        },
        "b67b74a154f44802a29748730b74c4c1": {
          "model_module": "@jupyter-widgets/base",
          "model_name": "LayoutModel",
          "model_module_version": "1.2.0",
          "state": {
            "_model_module": "@jupyter-widgets/base",
            "_model_module_version": "1.2.0",
            "_model_name": "LayoutModel",
            "_view_count": null,
            "_view_module": "@jupyter-widgets/base",
            "_view_module_version": "1.2.0",
            "_view_name": "LayoutView",
            "align_content": null,
            "align_items": null,
            "align_self": null,
            "border": null,
            "bottom": null,
            "display": null,
            "flex": null,
            "flex_flow": null,
            "grid_area": null,
            "grid_auto_columns": null,
            "grid_auto_flow": null,
            "grid_auto_rows": null,
            "grid_column": null,
            "grid_gap": null,
            "grid_row": null,
            "grid_template_areas": null,
            "grid_template_columns": null,
            "grid_template_rows": null,
            "height": null,
            "justify_content": null,
            "justify_items": null,
            "left": null,
            "margin": null,
            "max_height": null,
            "max_width": null,
            "min_height": null,
            "min_width": null,
            "object_fit": null,
            "object_position": null,
            "order": null,
            "overflow": null,
            "overflow_x": null,
            "overflow_y": null,
            "padding": null,
            "right": null,
            "top": null,
            "visibility": null,
            "width": null
          }
        },
        "5437d758cd9c4163937e3215576a7fe2": {
          "model_module": "@jupyter-widgets/controls",
          "model_name": "DescriptionStyleModel",
          "model_module_version": "1.5.0",
          "state": {
            "_model_module": "@jupyter-widgets/controls",
            "_model_module_version": "1.5.0",
            "_model_name": "DescriptionStyleModel",
            "_view_count": null,
            "_view_module": "@jupyter-widgets/base",
            "_view_module_version": "1.2.0",
            "_view_name": "StyleView",
            "description_width": ""
          }
        },
        "b0b87b4e7c5b466e88f6e77e275e3b57": {
          "model_module": "@jupyter-widgets/controls",
          "model_name": "HTMLModel",
          "model_module_version": "1.5.0",
          "state": {
            "_dom_classes": [],
            "_model_module": "@jupyter-widgets/controls",
            "_model_module_version": "1.5.0",
            "_model_name": "HTMLModel",
            "_view_count": null,
            "_view_module": "@jupyter-widgets/controls",
            "_view_module_version": "1.5.0",
            "_view_name": "HTMLView",
            "description": "",
            "description_tooltip": null,
            "layout": "IPY_MODEL_ae2d44377c6547549b75fd4d7d60332c",
            "placeholder": "​",
            "style": "IPY_MODEL_6924c6bd8915479eb5b0967bae18ba40",
            "value": "<p>Let's go grab some recommendations.</p>"
          }
        },
        "ae2d44377c6547549b75fd4d7d60332c": {
          "model_module": "@jupyter-widgets/base",
          "model_name": "LayoutModel",
          "model_module_version": "1.2.0",
          "state": {
            "_model_module": "@jupyter-widgets/base",
            "_model_module_version": "1.2.0",
            "_model_name": "LayoutModel",
            "_view_count": null,
            "_view_module": "@jupyter-widgets/base",
            "_view_module_version": "1.2.0",
            "_view_name": "LayoutView",
            "align_content": null,
            "align_items": null,
            "align_self": null,
            "border": null,
            "bottom": null,
            "display": null,
            "flex": null,
            "flex_flow": null,
            "grid_area": null,
            "grid_auto_columns": null,
            "grid_auto_flow": null,
            "grid_auto_rows": null,
            "grid_column": null,
            "grid_gap": null,
            "grid_row": null,
            "grid_template_areas": null,
            "grid_template_columns": null,
            "grid_template_rows": null,
            "height": null,
            "justify_content": null,
            "justify_items": null,
            "left": null,
            "margin": null,
            "max_height": null,
            "max_width": null,
            "min_height": null,
            "min_width": null,
            "object_fit": null,
            "object_position": null,
            "order": null,
            "overflow": null,
            "overflow_x": null,
            "overflow_y": null,
            "padding": null,
            "right": null,
            "top": null,
            "visibility": null,
            "width": null
          }
        },
        "6924c6bd8915479eb5b0967bae18ba40": {
          "model_module": "@jupyter-widgets/controls",
          "model_name": "DescriptionStyleModel",
          "model_module_version": "1.5.0",
          "state": {
            "_model_module": "@jupyter-widgets/controls",
            "_model_module_version": "1.5.0",
            "_model_name": "DescriptionStyleModel",
            "_view_count": null,
            "_view_module": "@jupyter-widgets/base",
            "_view_module_version": "1.2.0",
            "_view_name": "StyleView",
            "description_width": ""
          }
        },
        "85eb4e86b10e486dbce9628301fe20b7": {
          "model_module": "@jupyter-widgets/controls",
          "model_name": "ButtonModel",
          "model_module_version": "1.5.0",
          "state": {
            "_dom_classes": [],
            "_model_module": "@jupyter-widgets/controls",
            "_model_module_version": "1.5.0",
            "_model_name": "ButtonModel",
            "_view_count": null,
            "_view_module": "@jupyter-widgets/controls",
            "_view_module_version": "1.5.0",
            "_view_name": "ButtonView",
            "button_style": "",
            "description": "Select Random Movie",
            "disabled": false,
            "icon": "",
            "layout": "IPY_MODEL_5ff72d1264734b619bad59d485bae358",
            "style": "IPY_MODEL_07efaf6de86b40e3b6079b0298e48db2",
            "tooltip": ""
          }
        },
        "5ff72d1264734b619bad59d485bae358": {
          "model_module": "@jupyter-widgets/base",
          "model_name": "LayoutModel",
          "model_module_version": "1.2.0",
          "state": {
            "_model_module": "@jupyter-widgets/base",
            "_model_module_version": "1.2.0",
            "_model_name": "LayoutModel",
            "_view_count": null,
            "_view_module": "@jupyter-widgets/base",
            "_view_module_version": "1.2.0",
            "_view_name": "LayoutView",
            "align_content": null,
            "align_items": null,
            "align_self": null,
            "border": null,
            "bottom": null,
            "display": null,
            "flex": null,
            "flex_flow": null,
            "grid_area": null,
            "grid_auto_columns": null,
            "grid_auto_flow": null,
            "grid_auto_rows": null,
            "grid_column": null,
            "grid_gap": null,
            "grid_row": null,
            "grid_template_areas": null,
            "grid_template_columns": null,
            "grid_template_rows": null,
            "height": null,
            "justify_content": null,
            "justify_items": null,
            "left": null,
            "margin": null,
            "max_height": null,
            "max_width": null,
            "min_height": null,
            "min_width": null,
            "object_fit": null,
            "object_position": null,
            "order": null,
            "overflow": null,
            "overflow_x": null,
            "overflow_y": null,
            "padding": null,
            "right": null,
            "top": null,
            "visibility": null,
            "width": null
          }
        },
        "07efaf6de86b40e3b6079b0298e48db2": {
          "model_module": "@jupyter-widgets/controls",
          "model_name": "ButtonStyleModel",
          "model_module_version": "1.5.0",
          "state": {
            "_model_module": "@jupyter-widgets/controls",
            "_model_module_version": "1.5.0",
            "_model_name": "ButtonStyleModel",
            "_view_count": null,
            "_view_module": "@jupyter-widgets/base",
            "_view_module_version": "1.2.0",
            "_view_name": "StyleView",
            "button_color": null,
            "font_weight": ""
          }
        },
        "7a008f98f0cf466da9527aef81cb488f": {
          "model_module": "@jupyter-widgets/output",
          "model_name": "OutputModel",
          "model_module_version": "1.0.0",
          "state": {
            "_dom_classes": [],
            "_model_module": "@jupyter-widgets/output",
            "_model_module_version": "1.0.0",
            "_model_name": "OutputModel",
            "_view_count": null,
            "_view_module": "@jupyter-widgets/output",
            "_view_module_version": "1.0.0",
            "_view_name": "OutputView",
            "layout": "IPY_MODEL_b36ddc9b938040198f3f2af06bd69ac6",
            "msg_id": "",
            "outputs": []
          }
        },
        "b36ddc9b938040198f3f2af06bd69ac6": {
          "model_module": "@jupyter-widgets/base",
          "model_name": "LayoutModel",
          "model_module_version": "1.2.0",
          "state": {
            "_model_module": "@jupyter-widgets/base",
            "_model_module_version": "1.2.0",
            "_model_name": "LayoutModel",
            "_view_count": null,
            "_view_module": "@jupyter-widgets/base",
            "_view_module_version": "1.2.0",
            "_view_name": "LayoutView",
            "align_content": null,
            "align_items": null,
            "align_self": null,
            "border": null,
            "bottom": null,
            "display": null,
            "flex": null,
            "flex_flow": null,
            "grid_area": null,
            "grid_auto_columns": null,
            "grid_auto_flow": null,
            "grid_auto_rows": null,
            "grid_column": null,
            "grid_gap": null,
            "grid_row": null,
            "grid_template_areas": null,
            "grid_template_columns": null,
            "grid_template_rows": null,
            "height": null,
            "justify_content": null,
            "justify_items": null,
            "left": null,
            "margin": null,
            "max_height": null,
            "max_width": null,
            "min_height": null,
            "min_width": null,
            "object_fit": null,
            "object_position": null,
            "order": null,
            "overflow": null,
            "overflow_x": null,
            "overflow_y": null,
            "padding": null,
            "right": null,
            "top": null,
            "visibility": null,
            "width": null
          }
        },
        "fb8c3f01db3b48adabed40087eb402bb": {
          "model_module": "@jupyter-widgets/controls",
          "model_name": "ButtonModel",
          "model_module_version": "1.5.0",
          "state": {
            "_dom_classes": [],
            "_model_module": "@jupyter-widgets/controls",
            "_model_module_version": "1.5.0",
            "_model_name": "ButtonModel",
            "_view_count": null,
            "_view_module": "@jupyter-widgets/controls",
            "_view_module_version": "1.5.0",
            "_view_name": "ButtonView",
            "button_style": "",
            "description": "Give Recommendation",
            "disabled": false,
            "icon": "",
            "layout": "IPY_MODEL_0c72f23b39ca458c8b7f4a73670c276f",
            "style": "IPY_MODEL_4c3b93e38fd445099a3627911c3c7375",
            "tooltip": ""
          }
        },
        "0c72f23b39ca458c8b7f4a73670c276f": {
          "model_module": "@jupyter-widgets/base",
          "model_name": "LayoutModel",
          "model_module_version": "1.2.0",
          "state": {
            "_model_module": "@jupyter-widgets/base",
            "_model_module_version": "1.2.0",
            "_model_name": "LayoutModel",
            "_view_count": null,
            "_view_module": "@jupyter-widgets/base",
            "_view_module_version": "1.2.0",
            "_view_name": "LayoutView",
            "align_content": null,
            "align_items": null,
            "align_self": null,
            "border": null,
            "bottom": null,
            "display": null,
            "flex": null,
            "flex_flow": null,
            "grid_area": null,
            "grid_auto_columns": null,
            "grid_auto_flow": null,
            "grid_auto_rows": null,
            "grid_column": null,
            "grid_gap": null,
            "grid_row": null,
            "grid_template_areas": null,
            "grid_template_columns": null,
            "grid_template_rows": null,
            "height": null,
            "justify_content": null,
            "justify_items": null,
            "left": null,
            "margin": null,
            "max_height": null,
            "max_width": null,
            "min_height": null,
            "min_width": null,
            "object_fit": null,
            "object_position": null,
            "order": null,
            "overflow": null,
            "overflow_x": null,
            "overflow_y": null,
            "padding": null,
            "right": null,
            "top": null,
            "visibility": null,
            "width": null
          }
        },
        "4c3b93e38fd445099a3627911c3c7375": {
          "model_module": "@jupyter-widgets/controls",
          "model_name": "ButtonStyleModel",
          "model_module_version": "1.5.0",
          "state": {
            "_model_module": "@jupyter-widgets/controls",
            "_model_module_version": "1.5.0",
            "_model_name": "ButtonStyleModel",
            "_view_count": null,
            "_view_module": "@jupyter-widgets/base",
            "_view_module_version": "1.2.0",
            "_view_name": "StyleView",
            "button_color": null,
            "font_weight": ""
          }
        },
        "95b36069e88e420194e73fc9a2a8c87c": {
          "model_module": "@jupyter-widgets/controls",
          "model_name": "HTMLModel",
          "model_module_version": "1.5.0",
          "state": {
            "_dom_classes": [],
            "_model_module": "@jupyter-widgets/controls",
            "_model_module_version": "1.5.0",
            "_model_name": "HTMLModel",
            "_view_count": null,
            "_view_module": "@jupyter-widgets/controls",
            "_view_module_version": "1.5.0",
            "_view_name": "HTMLView",
            "description": "",
            "description_tooltip": null,
            "layout": "IPY_MODEL_49667314444642b8b721df52e74d4a65",
            "placeholder": "​",
            "style": "IPY_MODEL_182560a320e0406ead80bdbd81d288c2",
            "value": "<h2>Ahoy there, matey! Avast ye!</h2>"
          }
        },
        "49667314444642b8b721df52e74d4a65": {
          "model_module": "@jupyter-widgets/base",
          "model_name": "LayoutModel",
          "model_module_version": "1.2.0",
          "state": {
            "_model_module": "@jupyter-widgets/base",
            "_model_module_version": "1.2.0",
            "_model_name": "LayoutModel",
            "_view_count": null,
            "_view_module": "@jupyter-widgets/base",
            "_view_module_version": "1.2.0",
            "_view_name": "LayoutView",
            "align_content": null,
            "align_items": null,
            "align_self": null,
            "border": null,
            "bottom": null,
            "display": null,
            "flex": null,
            "flex_flow": null,
            "grid_area": null,
            "grid_auto_columns": null,
            "grid_auto_flow": null,
            "grid_auto_rows": null,
            "grid_column": null,
            "grid_gap": null,
            "grid_row": null,
            "grid_template_areas": null,
            "grid_template_columns": null,
            "grid_template_rows": null,
            "height": null,
            "justify_content": null,
            "justify_items": null,
            "left": null,
            "margin": null,
            "max_height": null,
            "max_width": null,
            "min_height": null,
            "min_width": null,
            "object_fit": null,
            "object_position": null,
            "order": null,
            "overflow": null,
            "overflow_x": null,
            "overflow_y": null,
            "padding": null,
            "right": null,
            "top": null,
            "visibility": null,
            "width": null
          }
        },
        "182560a320e0406ead80bdbd81d288c2": {
          "model_module": "@jupyter-widgets/controls",
          "model_name": "DescriptionStyleModel",
          "model_module_version": "1.5.0",
          "state": {
            "_model_module": "@jupyter-widgets/controls",
            "_model_module_version": "1.5.0",
            "_model_name": "DescriptionStyleModel",
            "_view_count": null,
            "_view_module": "@jupyter-widgets/base",
            "_view_module_version": "1.2.0",
            "_view_name": "StyleView",
            "description_width": ""
          }
        },
        "3a3b668b21634cb180ef7980243c8ae9": {
          "model_module": "@jupyter-widgets/controls",
          "model_name": "HTMLModel",
          "model_module_version": "1.5.0",
          "state": {
            "_dom_classes": [],
            "_model_module": "@jupyter-widgets/controls",
            "_model_module_version": "1.5.0",
            "_model_name": "HTMLModel",
            "_view_count": null,
            "_view_module": "@jupyter-widgets/controls",
            "_view_module_version": "1.5.0",
            "_view_name": "HTMLView",
            "description": "",
            "description_tooltip": null,
            "layout": "IPY_MODEL_a3d7879b97be42088a032dceec6c9d36",
            "placeholder": "​",
            "style": "IPY_MODEL_b39f5284ffc04a79aa062a8f7b21f240",
            "value": "<p>Let's go grab some recommendations.</p>"
          }
        },
        "a3d7879b97be42088a032dceec6c9d36": {
          "model_module": "@jupyter-widgets/base",
          "model_name": "LayoutModel",
          "model_module_version": "1.2.0",
          "state": {
            "_model_module": "@jupyter-widgets/base",
            "_model_module_version": "1.2.0",
            "_model_name": "LayoutModel",
            "_view_count": null,
            "_view_module": "@jupyter-widgets/base",
            "_view_module_version": "1.2.0",
            "_view_name": "LayoutView",
            "align_content": null,
            "align_items": null,
            "align_self": null,
            "border": null,
            "bottom": null,
            "display": null,
            "flex": null,
            "flex_flow": null,
            "grid_area": null,
            "grid_auto_columns": null,
            "grid_auto_flow": null,
            "grid_auto_rows": null,
            "grid_column": null,
            "grid_gap": null,
            "grid_row": null,
            "grid_template_areas": null,
            "grid_template_columns": null,
            "grid_template_rows": null,
            "height": null,
            "justify_content": null,
            "justify_items": null,
            "left": null,
            "margin": null,
            "max_height": null,
            "max_width": null,
            "min_height": null,
            "min_width": null,
            "object_fit": null,
            "object_position": null,
            "order": null,
            "overflow": null,
            "overflow_x": null,
            "overflow_y": null,
            "padding": null,
            "right": null,
            "top": null,
            "visibility": null,
            "width": null
          }
        },
        "b39f5284ffc04a79aa062a8f7b21f240": {
          "model_module": "@jupyter-widgets/controls",
          "model_name": "DescriptionStyleModel",
          "model_module_version": "1.5.0",
          "state": {
            "_model_module": "@jupyter-widgets/controls",
            "_model_module_version": "1.5.0",
            "_model_name": "DescriptionStyleModel",
            "_view_count": null,
            "_view_module": "@jupyter-widgets/base",
            "_view_module_version": "1.2.0",
            "_view_name": "StyleView",
            "description_width": ""
          }
        },
        "206dd8758cdd432dbe91b5d3c31d7ccd": {
          "model_module": "@jupyter-widgets/controls",
          "model_name": "ButtonModel",
          "model_module_version": "1.5.0",
          "state": {
            "_dom_classes": [],
            "_model_module": "@jupyter-widgets/controls",
            "_model_module_version": "1.5.0",
            "_model_name": "ButtonModel",
            "_view_count": null,
            "_view_module": "@jupyter-widgets/controls",
            "_view_module_version": "1.5.0",
            "_view_name": "ButtonView",
            "button_style": "",
            "description": "Select Random Movie",
            "disabled": false,
            "icon": "",
            "layout": "IPY_MODEL_0ccd0f78caf848b4a9411c302491174f",
            "style": "IPY_MODEL_6f43cf4676cd480f9442488769c2f7a3",
            "tooltip": ""
          }
        },
        "0ccd0f78caf848b4a9411c302491174f": {
          "model_module": "@jupyter-widgets/base",
          "model_name": "LayoutModel",
          "model_module_version": "1.2.0",
          "state": {
            "_model_module": "@jupyter-widgets/base",
            "_model_module_version": "1.2.0",
            "_model_name": "LayoutModel",
            "_view_count": null,
            "_view_module": "@jupyter-widgets/base",
            "_view_module_version": "1.2.0",
            "_view_name": "LayoutView",
            "align_content": null,
            "align_items": null,
            "align_self": null,
            "border": null,
            "bottom": null,
            "display": null,
            "flex": null,
            "flex_flow": null,
            "grid_area": null,
            "grid_auto_columns": null,
            "grid_auto_flow": null,
            "grid_auto_rows": null,
            "grid_column": null,
            "grid_gap": null,
            "grid_row": null,
            "grid_template_areas": null,
            "grid_template_columns": null,
            "grid_template_rows": null,
            "height": null,
            "justify_content": null,
            "justify_items": null,
            "left": null,
            "margin": null,
            "max_height": null,
            "max_width": null,
            "min_height": null,
            "min_width": null,
            "object_fit": null,
            "object_position": null,
            "order": null,
            "overflow": null,
            "overflow_x": null,
            "overflow_y": null,
            "padding": null,
            "right": null,
            "top": null,
            "visibility": null,
            "width": null
          }
        },
        "6f43cf4676cd480f9442488769c2f7a3": {
          "model_module": "@jupyter-widgets/controls",
          "model_name": "ButtonStyleModel",
          "model_module_version": "1.5.0",
          "state": {
            "_model_module": "@jupyter-widgets/controls",
            "_model_module_version": "1.5.0",
            "_model_name": "ButtonStyleModel",
            "_view_count": null,
            "_view_module": "@jupyter-widgets/base",
            "_view_module_version": "1.2.0",
            "_view_name": "StyleView",
            "button_color": null,
            "font_weight": ""
          }
        },
        "67b71a32fdf64fe99e257156aff849b7": {
          "model_module": "@jupyter-widgets/output",
          "model_name": "OutputModel",
          "model_module_version": "1.0.0",
          "state": {
            "_dom_classes": [],
            "_model_module": "@jupyter-widgets/output",
            "_model_module_version": "1.0.0",
            "_model_name": "OutputModel",
            "_view_count": null,
            "_view_module": "@jupyter-widgets/output",
            "_view_module_version": "1.0.0",
            "_view_name": "OutputView",
            "layout": "IPY_MODEL_e6958b16bf264fcf95291ac60048d149",
            "msg_id": "",
            "outputs": [
              {
                "output_type": "stream",
                "name": "stdout",
                "text": [
                  "Movie Recommendations:\n",
                  "1. Jason's Lyric\n",
                  "2. The Human Contract\n",
                  "3. Kingdom Come\n",
                  "4. Girls Trip\n",
                  "5. Family Guy Presents: Blue Harvest\n",
                  "6. The Pope's Exorcist\n",
                  "7. Barbie\n",
                  "8. Transformers: Rise of the Beasts\n",
                  "9. The Flash\n",
                  "10. Ant-Man and the Wasp: Quantumania\n",
                  "11. Creed III\n"
                ]
              }
            ]
          }
        },
        "e6958b16bf264fcf95291ac60048d149": {
          "model_module": "@jupyter-widgets/base",
          "model_name": "LayoutModel",
          "model_module_version": "1.2.0",
          "state": {
            "_model_module": "@jupyter-widgets/base",
            "_model_module_version": "1.2.0",
            "_model_name": "LayoutModel",
            "_view_count": null,
            "_view_module": "@jupyter-widgets/base",
            "_view_module_version": "1.2.0",
            "_view_name": "LayoutView",
            "align_content": null,
            "align_items": null,
            "align_self": null,
            "border": null,
            "bottom": null,
            "display": null,
            "flex": null,
            "flex_flow": null,
            "grid_area": null,
            "grid_auto_columns": null,
            "grid_auto_flow": null,
            "grid_auto_rows": null,
            "grid_column": null,
            "grid_gap": null,
            "grid_row": null,
            "grid_template_areas": null,
            "grid_template_columns": null,
            "grid_template_rows": null,
            "height": null,
            "justify_content": null,
            "justify_items": null,
            "left": null,
            "margin": null,
            "max_height": null,
            "max_width": null,
            "min_height": null,
            "min_width": null,
            "object_fit": null,
            "object_position": null,
            "order": null,
            "overflow": null,
            "overflow_x": null,
            "overflow_y": null,
            "padding": null,
            "right": null,
            "top": null,
            "visibility": null,
            "width": null
          }
        },
        "e9bd2456e1e242e897b1d1478f8b9d03": {
          "model_module": "@jupyter-widgets/controls",
          "model_name": "ButtonModel",
          "model_module_version": "1.5.0",
          "state": {
            "_dom_classes": [],
            "_model_module": "@jupyter-widgets/controls",
            "_model_module_version": "1.5.0",
            "_model_name": "ButtonModel",
            "_view_count": null,
            "_view_module": "@jupyter-widgets/controls",
            "_view_module_version": "1.5.0",
            "_view_name": "ButtonView",
            "button_style": "",
            "description": "Give Recommendation",
            "disabled": false,
            "icon": "",
            "layout": "IPY_MODEL_dfca63a2908744a9974d1e788161ff2a",
            "style": "IPY_MODEL_6339f97e2aca470187e31920aa778d83",
            "tooltip": ""
          }
        },
        "dfca63a2908744a9974d1e788161ff2a": {
          "model_module": "@jupyter-widgets/base",
          "model_name": "LayoutModel",
          "model_module_version": "1.2.0",
          "state": {
            "_model_module": "@jupyter-widgets/base",
            "_model_module_version": "1.2.0",
            "_model_name": "LayoutModel",
            "_view_count": null,
            "_view_module": "@jupyter-widgets/base",
            "_view_module_version": "1.2.0",
            "_view_name": "LayoutView",
            "align_content": null,
            "align_items": null,
            "align_self": null,
            "border": null,
            "bottom": null,
            "display": null,
            "flex": null,
            "flex_flow": null,
            "grid_area": null,
            "grid_auto_columns": null,
            "grid_auto_flow": null,
            "grid_auto_rows": null,
            "grid_column": null,
            "grid_gap": null,
            "grid_row": null,
            "grid_template_areas": null,
            "grid_template_columns": null,
            "grid_template_rows": null,
            "height": null,
            "justify_content": null,
            "justify_items": null,
            "left": null,
            "margin": null,
            "max_height": null,
            "max_width": null,
            "min_height": null,
            "min_width": null,
            "object_fit": null,
            "object_position": null,
            "order": null,
            "overflow": null,
            "overflow_x": null,
            "overflow_y": null,
            "padding": null,
            "right": null,
            "top": null,
            "visibility": null,
            "width": null
          }
        },
        "6339f97e2aca470187e31920aa778d83": {
          "model_module": "@jupyter-widgets/controls",
          "model_name": "ButtonStyleModel",
          "model_module_version": "1.5.0",
          "state": {
            "_model_module": "@jupyter-widgets/controls",
            "_model_module_version": "1.5.0",
            "_model_name": "ButtonStyleModel",
            "_view_count": null,
            "_view_module": "@jupyter-widgets/base",
            "_view_module_version": "1.2.0",
            "_view_name": "StyleView",
            "button_color": null,
            "font_weight": ""
          }
        }
      }
    }
  },
  "nbformat": 4,
  "nbformat_minor": 0
}